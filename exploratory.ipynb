{
 "cells": [
  {
   "cell_type": "markdown",
   "metadata": {},
   "source": [
    "# Bike Data Exploration\n",
    "## by Mansour Al Rajhi\n",
    "\n",
    "## Preliminary Wrangling\n",
    "\n",
    "> This data set includes information about individual rides made in a bike-sharing system covering the greater San Francisco Bay area."
   ]
  },
  {
   "cell_type": "code",
   "execution_count": 1,
   "metadata": {},
   "outputs": [],
   "source": [
    "# import all packages and set plots to be embedded inline\n",
    "import numpy as np\n",
    "import pandas as pd\n",
    "import matplotlib.pyplot as plt\n",
    "import seaborn as sb\n",
    "\n",
    "%matplotlib inline"
   ]
  },
  {
   "cell_type": "markdown",
   "metadata": {},
   "source": [
    "> Load in your dataset and describe its properties through the questions below.\n",
    "Try and motivate your exploration goals through this section."
   ]
  },
  {
   "cell_type": "code",
   "execution_count": 2,
   "metadata": {},
   "outputs": [],
   "source": [
    "# load in the dataset into a pandas dataframe, print statistics\n",
    "bike = pd.read_csv('2017-fordgobike-tripdata.csv')"
   ]
  },
  {
   "cell_type": "code",
   "execution_count": 3,
   "metadata": {},
   "outputs": [
    {
     "name": "stdout",
     "output_type": "stream",
     "text": [
      "(519700, 15)\n",
      "duration_sec                 int64\n",
      "start_time                  object\n",
      "end_time                    object\n",
      "start_station_id             int64\n",
      "start_station_name          object\n",
      "start_station_latitude     float64\n",
      "start_station_longitude    float64\n",
      "end_station_id               int64\n",
      "end_station_name            object\n",
      "end_station_latitude       float64\n",
      "end_station_longitude      float64\n",
      "bike_id                      int64\n",
      "user_type                   object\n",
      "member_birth_year          float64\n",
      "member_gender               object\n",
      "dtype: object\n",
      "   duration_sec                start_time                  end_time  \\\n",
      "0         80110  2017-12-31 16:57:39.6540  2018-01-01 15:12:50.2450   \n",
      "1         78800  2017-12-31 15:56:34.8420  2018-01-01 13:49:55.6170   \n",
      "2         45768  2017-12-31 22:45:48.4110  2018-01-01 11:28:36.8830   \n",
      "3         62172  2017-12-31 17:31:10.6360  2018-01-01 10:47:23.5310   \n",
      "4         43603  2017-12-31 14:23:14.0010  2018-01-01 02:29:57.5710   \n",
      "5          9226  2017-12-31 22:51:00.9180  2018-01-01 01:24:47.1660   \n",
      "6          4507  2017-12-31 23:49:28.4220  2018-01-01 01:04:35.6190   \n",
      "7          4334  2017-12-31 23:46:37.1960  2018-01-01 00:58:51.2110   \n",
      "8          4150  2017-12-31 23:37:07.5480  2018-01-01 00:46:18.3080   \n",
      "9          4238  2017-12-31 23:35:38.1450  2018-01-01 00:46:17.0530   \n",
      "\n",
      "   start_station_id                                 start_station_name  \\\n",
      "0                74                              Laguna St at Hayes St   \n",
      "1               284  Yerba Buena Center for the Arts (Howard St at ...   \n",
      "2               245                             Downtown Berkeley BART   \n",
      "3                60                               8th St at Ringold St   \n",
      "4               239                      Bancroft Way at Telegraph Ave   \n",
      "5                30     San Francisco Caltrain (Townsend St at 4th St)   \n",
      "6               259                            Addison St at Fourth St   \n",
      "7               284  Yerba Buena Center for the Arts (Howard St at ...   \n",
      "8                20    Mechanics Monument Plaza (Market St at Bush St)   \n",
      "9                20    Mechanics Monument Plaza (Market St at Bush St)   \n",
      "\n",
      "   start_station_latitude  start_station_longitude  end_station_id  \\\n",
      "0               37.776435              -122.426244              43   \n",
      "1               37.784872              -122.400876              96   \n",
      "2               37.870348              -122.267764             245   \n",
      "3               37.774520              -122.409449               5   \n",
      "4               37.868813              -122.258764             247   \n",
      "5               37.776598              -122.395282              30   \n",
      "6               37.866249              -122.299371             259   \n",
      "7               37.784872              -122.400876             284   \n",
      "8               37.791300              -122.399051              20   \n",
      "9               37.791300              -122.399051              20   \n",
      "\n",
      "                                    end_station_name  end_station_latitude  \\\n",
      "0  San Francisco Public Library (Grove St at Hyde...             37.778768   \n",
      "1                              Dolores St at 15th St             37.766210   \n",
      "2                             Downtown Berkeley BART             37.870348   \n",
      "3       Powell St BART Station (Market St at 5th St)             37.783899   \n",
      "4                          Fulton St at Bancroft Way             37.867789   \n",
      "5     San Francisco Caltrain (Townsend St at 4th St)             37.776598   \n",
      "6                            Addison St at Fourth St             37.866249   \n",
      "7  Yerba Buena Center for the Arts (Howard St at ...             37.784872   \n",
      "8    Mechanics Monument Plaza (Market St at Bush St)             37.791300   \n",
      "9    Mechanics Monument Plaza (Market St at Bush St)             37.791300   \n",
      "\n",
      "   end_station_longitude  bike_id   user_type  member_birth_year member_gender  \n",
      "0            -122.415929       96    Customer             1987.0          Male  \n",
      "1            -122.426614       88    Customer             1965.0        Female  \n",
      "2            -122.267764     1094    Customer                NaN           NaN  \n",
      "3            -122.408445     2831    Customer                NaN           NaN  \n",
      "4            -122.265896     3167  Subscriber             1997.0        Female  \n",
      "5            -122.395282     1487    Customer                NaN           NaN  \n",
      "6            -122.299371     3539    Customer             1991.0        Female  \n",
      "7            -122.400876     1503    Customer                NaN           NaN  \n",
      "8            -122.399051     3125    Customer                NaN           NaN  \n",
      "9            -122.399051     2543    Customer                NaN           NaN  \n"
     ]
    }
   ],
   "source": [
    "# high-level overview of data shape and composition\n",
    "print(bike.shape)\n",
    "print(bike.dtypes)\n",
    "print(bike.head(10))"
   ]
  },
  {
   "cell_type": "code",
   "execution_count": 4,
   "metadata": {},
   "outputs": [
    {
     "name": "stdout",
     "output_type": "stream",
     "text": [
      "        duration_sec  start_station_id  start_station_latitude  \\\n",
      "count  519700.000000     519700.000000           519700.000000   \n",
      "mean     1099.009521         95.034245               37.771653   \n",
      "std      3444.146451         86.083078                0.086305   \n",
      "min        61.000000          3.000000               37.317298   \n",
      "25%       382.000000         24.000000               37.773492   \n",
      "50%       596.000000         67.000000               37.783521   \n",
      "75%       938.000000        139.000000               37.795392   \n",
      "max     86369.000000        340.000000               37.880222   \n",
      "\n",
      "       start_station_longitude  end_station_id  end_station_latitude  \\\n",
      "count            519700.000000   519700.000000         519700.000000   \n",
      "mean               -122.363927       92.184041             37.771844   \n",
      "std                   0.105573       84.969491              0.086224   \n",
      "min                -122.444293        3.000000             37.317298   \n",
      "25%                -122.411726       23.000000             37.774520   \n",
      "50%                -122.398870       66.000000             37.783830   \n",
      "75%                -122.391034      134.000000             37.795392   \n",
      "max                -121.874119      340.000000             37.880222   \n",
      "\n",
      "       end_station_longitude        bike_id  member_birth_year  \n",
      "count          519700.000000  519700.000000      453159.000000  \n",
      "mean             -122.363236    1672.533079        1980.404787  \n",
      "std                 0.105122     971.356959          10.513488  \n",
      "min              -122.444293      10.000000        1886.000000  \n",
      "25%              -122.410345     787.000000        1974.000000  \n",
      "50%              -122.398525    1728.500000        1983.000000  \n",
      "75%              -122.391034    2520.000000        1988.000000  \n",
      "max              -121.874119    3733.000000        1999.000000  \n"
     ]
    }
   ],
   "source": [
    "# descriptive statistics for numeric variables\n",
    "print(bike.describe())"
   ]
  },
  {
   "cell_type": "markdown",
   "metadata": {},
   "source": [
    "### What is the structure of your dataset?\n",
    "\n",
    "> The dataset have 15 columns about bike rental information and 519700 rows about each rental. \n",
    "\n",
    "### What is/are the main feature(s) of interest in your dataset?\n",
    "\n",
    "> The main interest of the dataset is to identify the largest customer segment that we should target in marketing the Bike transit system.\n",
    "\n",
    "### What features in the dataset do you think will help support your investigation into your feature(s) of interest?\n",
    "\n",
    "> The columns that we will be using the most will be: user type, member birth year, member gender, duration sec, start time, end time."
   ]
  },
  {
   "cell_type": "markdown",
   "metadata": {},
   "source": [
    "## Univariate Exploration\n",
    "\n",
    "> We will start investigate the main viarbles of the dataset"
   ]
  },
  {
   "cell_type": "code",
   "execution_count": 5,
   "metadata": {},
   "outputs": [
    {
     "data": {
      "image/png": "[encoded data removed]",
      "text/plain": [
       "<Figure size 576x576 with 2 Axes>"
      ]
     },
     "metadata": {
      "needs_background": "light"
     },
     "output_type": "display_data"
    }
   ],
   "source": [
    "fig, ax = plt.subplots(nrows=2, figsize = [8,8])\n",
    "\n",
    "default_color = sb.color_palette()[0]\n",
    "sb.countplot(data = bike, x = 'user_type', color = default_color, ax = ax[0])\n",
    "sb.countplot(data = bike, x = 'member_gender', color = default_color, ax = ax[1])\n",
    "\n",
    "plt.show()"
   ]
  },
  {
   "cell_type": "markdown",
   "metadata": {},
   "source": [
    "We can notice that more subscribers use the bike service than the general public.\n",
    "Also, we notice that more Male use the bikes than Female."
   ]
  },
  {
   "cell_type": "code",
   "execution_count": 6,
   "metadata": {},
   "outputs": [
    {
     "data": {
      "image/png": "[encoded data removed]",
      "text/plain": [
       "<Figure size 576x360 with 1 Axes>"
      ]
     },
     "metadata": {
      "needs_background": "light"
     },
     "output_type": "display_data"
    }
   ],
   "source": [
    "# start with a standard-scaled plot of the duration seconds\n",
    "binsize = 500\n",
    "bins = np.arange(0, bike['duration_sec'].max()+binsize, binsize)\n",
    "\n",
    "plt.figure(figsize=[8, 5])\n",
    "plt.hist(data = bike, x = 'duration_sec', bins = bins)\n",
    "plt.xlabel('Duration (Sec)')\n",
    "plt.show()"
   ]
  },
  {
   "cell_type": "code",
   "execution_count": 7,
   "metadata": {},
   "outputs": [
    {
     "data": {
      "image/png": "[encoded data removed]",
      "text/plain": [
       "<Figure size 576x360 with 1 Axes>"
      ]
     },
     "metadata": {
      "needs_background": "light"
     },
     "output_type": "display_data"
    }
   ],
   "source": [
    "# there's a long tail in the distribution, so let's put it on a log scale instead\n",
    "log_binsize = 0.025\n",
    "bins = 10 ** np.arange(1.7, np.log10(bike['duration_sec'].max())+log_binsize, log_binsize)\n",
    "\n",
    "plt.figure(figsize=[8, 5])\n",
    "plt.hist(data = bike, x = 'duration_sec', bins = bins)\n",
    "plt.xscale('log')\n",
    "plt.xticks([100, 500, 1e3, 2e3, 5e4], [100, 500, '1k', '2k', '5k'])\n",
    "plt.xlabel('Duration (Sec)')\n",
    "plt.show()"
   ]
  },
  {
   "cell_type": "code",
   "execution_count": 38,
   "metadata": {},
   "outputs": [],
   "source": [
    "# convert member birth year to int\n",
    "bike.member_birth_year = pd.to_datetime(bike.member_birth_year)\n",
    "bike.member_birth_year = bike.member_birth_year.astype(int,copy=False)\n",
    "bike = bike[bike['member_birth_year'].notnull()]"
   ]
  },
  {
   "cell_type": "code",
   "execution_count": 39,
   "metadata": {},
   "outputs": [
    {
     "data": {
      "image/png": "[encoded data removed]",
      "text/plain": [
       "<Figure size 576x360 with 1 Axes>"
      ]
     },
     "metadata": {
      "needs_background": "light"
     },
     "output_type": "display_data"
    }
   ],
   "source": [
    "bins = np.arange(0, bike['member_birth_year'].max(), 3)\n",
    "\n",
    "plt.figure(figsize=[8, 5])\n",
    "plt.hist(data = bike, x = 'member_birth_year', bins = bins)\n",
    "plt.xlabel('Member Birth Year')\n",
    "plt.show()"
   ]
  },
  {
   "cell_type": "code",
   "execution_count": 40,
   "metadata": {},
   "outputs": [],
   "source": [
    "bike['member_age'] = 2017 - bike.member_birth_year"
   ]
  },
  {
   "cell_type": "code",
   "execution_count": 41,
   "metadata": {},
   "outputs": [
    {
     "data": {
      "text/plain": [
       "-9223372036854773791    66541\n",
       " 32                     24342\n",
       " 29                     23610\n",
       " 30                     22493\n",
       " 33                     21061\n",
       " 35                     21005\n",
       " 31                     20134\n",
       " 34                     19270\n",
       " 28                     19202\n",
       " 27                     16832\n",
       " 26                     16009\n",
       " 36                     15132\n",
       " 37                     14817\n",
       " 24                     13394\n",
       " 38                     12691\n",
       " 25                     11928\n",
       " 40                     11798\n",
       " 42                     11454\n",
       " 39                     10845\n",
       " 23                      9932\n",
       " 44                      9230\n",
       " 43                      9186\n",
       " 49                      9038\n",
       " 41                      8782\n",
       " 52                      7926\n",
       " 46                      7892\n",
       " 47                      7599\n",
       " 50                      6650\n",
       " 45                      6645\n",
       " 22                      6616\n",
       "                        ...  \n",
       " 60                      1525\n",
       " 62                      1082\n",
       " 65                       960\n",
       " 18                       899\n",
       " 66                       745\n",
       " 67                       740\n",
       " 64                       596\n",
       " 70                       534\n",
       " 68                       500\n",
       " 69                       464\n",
       " 72                       280\n",
       " 73                       231\n",
       " 115                      217\n",
       " 74                       188\n",
       " 117                      142\n",
       " 82                       134\n",
       " 71                        82\n",
       " 75                        73\n",
       " 93                        66\n",
       " 76                        57\n",
       " 84                        41\n",
       " 78                        37\n",
       " 83                        34\n",
       " 77                        29\n",
       " 89                        29\n",
       " 79                        22\n",
       " 106                       12\n",
       " 110                        7\n",
       " 116                        4\n",
       " 131                        2\n",
       "Name: member_age, Length: 74, dtype: int64"
      ]
     },
     "execution_count": 41,
     "metadata": {},
     "output_type": "execute_result"
    }
   ],
   "source": [
    "bike.member_age.value_counts()"
   ]
  },
  {
   "cell_type": "code",
   "execution_count": 42,
   "metadata": {},
   "outputs": [],
   "source": [
    "bike.drop(bike[bike.member_age < 0].index, inplace = True)"
   ]
  },
  {
   "cell_type": "code",
   "execution_count": 43,
   "metadata": {},
   "outputs": [
    {
     "data": {
      "image/png": "[encoded data removed]",
      "text/plain": [
       "<Figure size 576x360 with 1 Axes>"
      ]
     },
     "metadata": {
      "needs_background": "light"
     },
     "output_type": "display_data"
    }
   ],
   "source": [
    "bins = np.arange(0, bike['member_age'].max(), 3)\n",
    "\n",
    "plt.figure(figsize=[8, 5])\n",
    "plt.hist(data = bike, x = 'member_age', bins = bins)\n",
    "plt.xlabel('Member Age')\n",
    "plt.show()"
   ]
  },
  {
   "cell_type": "markdown",
   "metadata": {},
   "source": [
    "> We can see from the previous plots that most of the users are Subscribers, Male and of age between 25 and 40."
   ]
  },
  {
   "cell_type": "markdown",
   "metadata": {},
   "source": [
    "### Discuss the distribution(s) of your variable(s) of interest. Were there any unusual points? Did you need to perform any transformations?\n",
    "\n",
    "> The distribution of Member Age is skewed to the left where most of the users are between the age 25 and 40. Also, the Duration of usage looks normal with medina of 1000 second which is 16 minutes approximatly.\n",
    "\n",
    "### Of the features you investigated, were there any unusual distributions? Did you perform any operations on the data to tidy, adjust, or change the form of the data? If so, why did you do this?\n",
    "\n",
    "> We converted member birth year into integr to calculate the age of each member in order for us to plot the age distribution of the users age."
   ]
  },
  {
   "cell_type": "markdown",
   "metadata": {},
   "source": [
    "## Bivariate Exploration\n",
    "\n",
    "> In this section, we investigate the relationships between pairs of variables."
   ]
  },
  {
   "cell_type": "code",
   "execution_count": 44,
   "metadata": {},
   "outputs": [
    {
     "data": {
      "text/plain": [
       "<matplotlib.axes._subplots.AxesSubplot at 0x1a1e7faac8>"
      ]
     },
     "execution_count": 44,
     "metadata": {},
     "output_type": "execute_result"
    },
    {
     "data": {
      "image/png": "[encoded data removed]",
      "text/plain": [
       "<Figure size 432x288 with 1 Axes>"
      ]
     },
     "metadata": {
      "needs_background": "light"
     },
     "output_type": "display_data"
    }
   ],
   "source": [
    "sb.barplot(data = bike, x = 'member_gender', y = 'duration_sec')"
   ]
  },
  {
   "cell_type": "code",
   "execution_count": 45,
   "metadata": {},
   "outputs": [
    {
     "data": {
      "text/plain": [
       "<matplotlib.axes._subplots.AxesSubplot at 0x1a19c815c0>"
      ]
     },
     "execution_count": 45,
     "metadata": {},
     "output_type": "execute_result"
    },
    {
     "data": {
      "image/png": "[encoded data removed]",
      "text/plain": [
       "<Figure size 432x288 with 1 Axes>"
      ]
     },
     "metadata": {
      "needs_background": "light"
     },
     "output_type": "display_data"
    }
   ],
   "source": [
    "sb.barplot(data = bike, x = 'user_type', y = 'duration_sec')"
   ]
  },
  {
   "cell_type": "code",
   "execution_count": 52,
   "metadata": {},
   "outputs": [
    {
     "data": {
      "text/plain": [
       "<matplotlib.axes._subplots.AxesSubplot at 0x1a198a4d30>"
      ]
     },
     "execution_count": 52,
     "metadata": {},
     "output_type": "execute_result"
    },
    {
     "data": {
      "image/png": "[encoded data removed]",
      "text/plain": [
       "<Figure size 432x288 with 1 Axes>"
      ]
     },
     "metadata": {
      "needs_background": "light"
     },
     "output_type": "display_data"
    }
   ],
   "source": [
    "sb.boxplot(x=bike[\"member_gender\"], y=bike[\"member_age\"] )"
   ]
  },
  {
   "cell_type": "markdown",
   "metadata": {},
   "source": [
    "### Talk about some of the relationships you observed in this part of the investigation. How did the feature(s) of interest vary with other features in the dataset?\n",
    "\n",
    "> We can notice that Female users tend to use the bike at longer duration than Male users. Also, customer use the bike service for a longer duration than subscribers of the bike service which might be becuase that most of the customers who are not subscribers are actually tourist who use the bike to enjoy thier time in San Francisco. Finally, Male users tend to be older and have an older median than the Female users.\n",
    "\n",
    "### Did you observe any interesting relationships between the other features (not the main feature(s) of interest)?\n",
    "\n",
    "> Many users did register their information wrongly or left it empty particularly in the date of birth info which created a huge distribution age birth year. We delt with that by removing all non values entries."
   ]
  },
  {
   "cell_type": "markdown",
   "metadata": {},
   "source": [
    "## Multivariate Exploration\n",
    "\n",
    "> > In this section, we investigate the relationships between multivariate variables."
   ]
  },
  {
   "cell_type": "code",
   "execution_count": 18,
   "metadata": {},
   "outputs": [
    {
     "data": {
      "text/plain": [
       "<matplotlib.axes._subplots.AxesSubplot at 0x1a1b595320>"
      ]
     },
     "execution_count": 18,
     "metadata": {},
     "output_type": "execute_result"
    },
    {
     "data": {
      "image/png": "[encoded data removed]",
      "text/plain": [
       "<Figure size 432x288 with 1 Axes>"
      ]
     },
     "metadata": {
      "needs_background": "light"
     },
     "output_type": "display_data"
    }
   ],
   "source": [
    "sb.barplot(data = bike, x = 'member_gender', y = 'duration_sec', hue = 'user_type')"
   ]
  },
  {
   "cell_type": "code",
   "execution_count": 54,
   "metadata": {},
   "outputs": [
    {
     "data": {
      "text/plain": [
       "<matplotlib.axes._subplots.AxesSubplot at 0x1a1b6395c0>"
      ]
     },
     "execution_count": 54,
     "metadata": {},
     "output_type": "execute_result"
    },
    {
     "data": {
      "image/png": "[encoded data removed]",
      "text/plain": [
       "<Figure size 432x288 with 1 Axes>"
      ]
     },
     "metadata": {
      "needs_background": "light"
     },
     "output_type": "display_data"
    }
   ],
   "source": [
    "sb.boxplot(x=bike[\"member_gender\"], y=bike[\"member_age\"], hue = bike['user_type'])"
   ]
  },
  {
   "cell_type": "markdown",
   "metadata": {},
   "source": [
    "### Talk about some of the relationships you observed in this part of the investigation. Were there features that strengthened each other in terms of looking at your feature(s) of interest?\n",
    "\n",
    "> Females use the bike service for a longer period whether they are customers of subscribers. However, Subscribers are older in general in both genders with larger age gap in users.\n",
    "\n",
    "### Were there any interesting or surprising interactions between features?\n",
    "\n",
    "> At first we thought that Male users are dominante and should be our target users; however, after further analysis we can see that the Female segment is important and more avid users even at older age."
   ]
  },
  {
   "cell_type": "markdown",
   "metadata": {},
   "source": [
    "> At the end of your report, make sure that you export the notebook as an\n",
    "html file from the `File > Download as... > HTML` menu. Make sure you keep\n",
    "track of where the exported file goes, so you can put it in the same folder\n",
    "as this notebook for project submission. Also, make sure you remove all of\n",
    "the quote-formatted guide notes like this one before you finish your report!"
   ]
  },
  {
   "cell_type": "code",
   "execution_count": null,
   "metadata": {},
   "outputs": [],
   "source": []
  }
 ],
 "metadata": {
  "kernelspec": {
   "display_name": "Python 3",
   "language": "python",
   "name": "python3"
  },
  "language_info": {
   "codemirror_mode": {
    "name": "ipython",
    "version": 3
   },
   "file_extension": ".py",
   "mimetype": "text/x-python",
   "name": "python",
   "nbconvert_exporter": "python",
   "pygments_lexer": "ipython3",
   "version": "3.7.1"
  }
 },
 "nbformat": 4,
 "nbformat_minor": 2
}
